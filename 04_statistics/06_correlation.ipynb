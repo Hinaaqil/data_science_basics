{
 "cells": [
  {
   "cell_type": "code",
   "execution_count": null,
   "metadata": {},
   "outputs": [],
   "source": []
  },
  {
   "cell_type": "markdown",
   "metadata": {},
   "source": [
    "#Correlation"
   ]
  },
  {
   "cell_type": "markdown",
   "metadata": {},
   "source": [
    "Types of Correlation tests:\n",
    "\n",
    "Pearson's correlation coefficient\n",
    "Spearman's rank correlation coefficient\n",
    "Kendall's rank correlation coefficient\n",
    "Point-Biserial correlation coefficient\n",
    "Biserial correlation coefficient\n",
    "Phi coefficient\n",
    "Cramer's V\n",
    "Pearson's correlation coefficient\n",
    "Pearson's correlation coefficient is a measure of the linear correlation between two variables X and Y. It has a value between +1 and −1, where 1 is total positive linear correlation, 0 is no linear correlation, and −1 is total negative linear correlation."
   ]
  },
  {
   "cell_type": "code",
   "execution_count": 1,
   "metadata": {},
   "outputs": [
    {
     "name": "stdout",
     "output_type": "stream",
     "text": [
      "Pearson Correlation Coefficient: 0.7745966692414834\n",
      "Highly Positive Correlation.\n"
     ]
    }
   ],
   "source": [
    "# pearson's correlation coefficient\n",
    "import pandas as pd\n",
    "import numpy as np\n",
    "def pearson(x, y):\n",
    "    x_mean = np.mean(x)\n",
    "    y_mean = np.mean(y)\n",
    "    x_std = np.std(x)\n",
    "    y_std = np.std(y)\n",
    "    n = len(x)\n",
    "    return sum((x-x_mean)*(y-y_mean))/(n*x_std*y_std)\n",
    "# example dataset\n",
    "x = np.array([1,2,3,4,5])\n",
    "y = np.array([2,4,5,4,5])\n",
    "print(f\"Pearson Correlation Coefficient: {pearson(x,y)}\")\n",
    "\n",
    "# print with if else statement \n",
    "if pearson(x,y) < 0.6 > 0:\n",
    "    print(\"Positive Correlation.\")\n",
    "elif pearson(x,y) > 0.6:\n",
    "    print(\"Highly Positive Correlation.\")\n",
    "elif pearson(x,y) > -0.6 < 0:\n",
    "    print(\"Negative Correlation.\")\n",
    "elif pearson(x,y) < -0.6:\n",
    "    print(\"Highly Negative Correlation.\")\n",
    "else:\n",
    "    print(\"No Correlation.\")"
   ]
  },
  {
   "cell_type": "code",
   "execution_count": null,
   "metadata": {},
   "outputs": [],
   "source": [
    "#Other methods to computes correlation"
   ]
  },
  {
   "cell_type": "code",
   "execution_count": 2,
   "metadata": {},
   "outputs": [
    {
     "name": "stdout",
     "output_type": "stream",
     "text": [
      "Pearson Correlation Coefficient: 0.7745966692414834\n"
     ]
    }
   ],
   "source": [
    "import pandas as pd\n",
    "import numpy as np  \n",
    "\n",
    "# example dataset\n",
    "x = np.array([1,2,3,4,5])\n",
    "y = np.array([2,4,5,4,5])\n",
    "\n",
    "# pearson's correlation coefficient\n",
    "\n",
    "pearson = np.corrcoef(x,y)\n",
    "print(f\"Pearson Correlation Coefficient: {pearson[0,1]}\")"
   ]
  },
  {
   "cell_type": "code",
   "execution_count": 3,
   "metadata": {},
   "outputs": [
    {
     "name": "stdout",
     "output_type": "stream",
     "text": [
      "Pearson Correlation Coefficient: 0.7745966692414834\n"
     ]
    }
   ],
   "source": [
    "# creata an example dataset\n",
    "\n",
    "x = pd.Series([1,2,3,4,5])\n",
    "y = pd.Series([2,4,5,4,5])\n",
    "\n",
    "# pearson's correlation coefficient\n",
    "pearson_corr = x.corr(y)\n",
    "print(f\"Pearson Correlation Coefficient: {pearson_corr}\")"
   ]
  },
  {
   "cell_type": "code",
   "execution_count": 4,
   "metadata": {},
   "outputs": [
    {
     "data": {
      "text/html": [
       "<div>\n",
       "<style scoped>\n",
       "    .dataframe tbody tr th:only-of-type {\n",
       "        vertical-align: middle;\n",
       "    }\n",
       "\n",
       "    .dataframe tbody tr th {\n",
       "        vertical-align: top;\n",
       "    }\n",
       "\n",
       "    .dataframe thead th {\n",
       "        text-align: right;\n",
       "    }\n",
       "</style>\n",
       "<table border=\"1\" class=\"dataframe\">\n",
       "  <thead>\n",
       "    <tr style=\"text-align: right;\">\n",
       "      <th></th>\n",
       "      <th>x</th>\n",
       "      <th>y</th>\n",
       "    </tr>\n",
       "  </thead>\n",
       "  <tbody>\n",
       "    <tr>\n",
       "      <th>0</th>\n",
       "      <td>1</td>\n",
       "      <td>2</td>\n",
       "    </tr>\n",
       "    <tr>\n",
       "      <th>1</th>\n",
       "      <td>2</td>\n",
       "      <td>4</td>\n",
       "    </tr>\n",
       "    <tr>\n",
       "      <th>2</th>\n",
       "      <td>3</td>\n",
       "      <td>5</td>\n",
       "    </tr>\n",
       "    <tr>\n",
       "      <th>3</th>\n",
       "      <td>4</td>\n",
       "      <td>4</td>\n",
       "    </tr>\n",
       "    <tr>\n",
       "      <th>4</th>\n",
       "      <td>5</td>\n",
       "      <td>5</td>\n",
       "    </tr>\n",
       "  </tbody>\n",
       "</table>\n",
       "</div>"
      ],
      "text/plain": [
       "   x  y\n",
       "0  1  2\n",
       "1  2  4\n",
       "2  3  5\n",
       "3  4  4\n",
       "4  5  5"
      ]
     },
     "execution_count": 4,
     "metadata": {},
     "output_type": "execute_result"
    }
   ],
   "source": [
    "df = pd.DataFrame({'x':x, 'y':y})\n",
    "df.head()"
   ]
  },
  {
   "cell_type": "code",
   "execution_count": 5,
   "metadata": {},
   "outputs": [
    {
     "name": "stdout",
     "output_type": "stream",
     "text": [
      "Pearson Correlation Coefficient:\n",
      "           x         y\n",
      "x  1.000000  0.774597\n",
      "y  0.774597  1.000000\n",
      "====================================\n",
      "Spearman Correlation Coefficient:\n",
      "           x         y\n",
      "x  1.000000  0.737865\n",
      "y  0.737865  1.000000\n",
      "====================================\n",
      "Kendall Correlation Coefficient:\n",
      "          x        y\n",
      "x  1.00000  0.67082\n",
      "y  0.67082  1.00000\n"
     ]
    }
   ],
   "source": [
    "# using correlation matrix in pandas\n",
    "\n",
    "df = pd.DataFrame({'x':x, 'y':y})\n",
    "\n",
    "# pearson's correlation coefficient\n",
    "pearson_corr = df.corr(method = 'pearson')\n",
    "spearman_corr = df.corr(method = 'spearman')\n",
    "kendall_corr = df.corr(method = 'kendall')\n",
    "\n",
    "print(f\"Pearson Correlation Coefficient:\\n {pearson_corr}\")\n",
    "print(\"====================================\")\n",
    "print(f\"Spearman Correlation Coefficient:\\n {spearman_corr}\")\n",
    "print(\"====================================\")\n",
    "print(f\"Kendall Correlation Coefficient:\\n {kendall_corr}\")"
   ]
  },
  {
   "cell_type": "code",
   "execution_count": 6,
   "metadata": {},
   "outputs": [
    {
     "data": {
      "image/png": "[encoded data removed]",
      "text/plain": [
       "<Figure size 640x480 with 2 Axes>"
      ]
     },
     "metadata": {},
     "output_type": "display_data"
    },
    {
     "data": {
      "image/png": "[encoded data removed]",
      "text/plain": [
       "<Figure size 640x480 with 2 Axes>"
      ]
     },
     "metadata": {},
     "output_type": "display_data"
    },
    {
     "data": {
      "image/png": "[encoded data removed]",
      "text/plain": [
       "<Figure size 640x480 with 2 Axes>"
      ]
     },
     "metadata": {},
     "output_type": "display_data"
    }
   ],
   "source": [
    "# Draw a heatmap with the numeric values in each cell\n",
    "import seaborn as sns\n",
    "import matplotlib.pyplot as plt\n",
    "sns.heatmap(pearson_corr, annot=True, cmap='Blues')\n",
    "plt.title('Pearson Correlation Coefficient')\n",
    "plt.show()\n",
    "sns.heatmap(spearman_corr, annot=True, cmap='Blues')\n",
    "plt.title('Spearman Correlation Coefficient')\n",
    "plt.show()\n",
    "sns.heatmap(kendall_corr, annot=True, cmap='Blues')\n",
    "plt.title('Kendall Correlation Coefficient')\n",
    "plt.show()"
   ]
  },
  {
   "cell_type": "code",
   "execution_count": null,
   "metadata": {},
   "outputs": [],
   "source": []
  }
 ],
 "metadata": {
  "kernelspec": {
   "display_name": "base",
   "language": "python",
   "name": "python3"
  },
  "language_info": {
   "codemirror_mode": {
    "name": "ipython",
    "version": 3
   },
   "file_extension": ".py",
   "mimetype": "text/x-python",
   "name": "python",
   "nbconvert_exporter": "python",
   "pygments_lexer": "ipython3",
   "version": "3.11.7"
  }
 },
 "nbformat": 4,
 "nbformat_minor": 2
}
